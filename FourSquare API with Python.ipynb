{
    "nbformat_minor": 1, 
    "cells": [
        {
            "source": "# FourSquare API with Python", 
            "cell_type": "markdown", 
            "metadata": {
                "collapsed": true
            }
        }, 
        {
            "source": "## Introduction\n\nIn this lab, you will learn in details how to make calls to the Foursquare API for different purposes. You will learn how to construct a URL to send a request to the API to search for a specific type of venues, to explore a particular venue, to explore a Foursquare user, to explore a geographical location, and to get trending venues around a location. Also, you will learn how to use the visualization library, Folium, to visualize the results.", 
            "cell_type": "markdown", 
            "metadata": {}
        }, 
        {
            "source": "## Table of Contents\n\n1. <a href=\"#item1\">Foursquare API Search Function</a>\n2. <a href=\"#item2\">Explore a Given Venue</a>  \n3. <a href=\"#item3\">Explore a User</a>  \n4. <a href=\"#item4\">Foursquare API Explore Function</a>  \n5. <a href=\"#item5\">Get Trending Venues</a>  ", 
            "cell_type": "markdown", 
            "metadata": {}
        }, 
        {
            "source": "### Import necessary Libraries", 
            "cell_type": "markdown", 
            "metadata": {}
        }, 
        {
            "execution_count": 1, 
            "cell_type": "code", 
            "metadata": {}, 
            "outputs": [
                {
                    "output_type": "stream", 
                    "name": "stdout", 
                    "text": "Fetching package metadata .............\nSolving package specifications: .\n\nPackage plan for installation in environment /opt/conda/envs/DSX-Python35:\n\nThe following NEW packages will be INSTALLED:\n\n    geographiclib: 1.49-py_0   conda-forge\n    geopy:         1.18.1-py_0 conda-forge\n\ngeographiclib- 100% |################################| Time: 0:00:00   5.13 MB/s\ngeopy-1.18.1-p 100% |################################| Time: 0:00:00   5.47 MB/s\nFetching package metadata .............\nSolving package specifications: .\n\nPackage plan for installation in environment /opt/conda/envs/DSX-Python35:\n\nThe following NEW packages will be INSTALLED:\n\n    altair:  2.2.2-py35_1 conda-forge\n    branca:  0.3.1-py_0   conda-forge\n    folium:  0.5.0-py_0   conda-forge\n    vincent: 0.4.4-py_1   conda-forge\n\naltair-2.2.2-p 100% |################################| Time: 0:00:00   9.33 MB/s\nbranca-0.3.1-p 100% |################################| Time: 0:00:00  46.28 MB/s\nvincent-0.4.4- 100% |################################| Time: 0:00:00  48.93 MB/s\nfolium-0.5.0-p 100% |################################| Time: 0:00:00  58.10 MB/s\nFolium installed\nLibraries imported.\n"
                }
            ], 
            "source": "import requests # library to handle requests\nimport pandas as pd # library for data analsysis\nimport numpy as np # library to handle data in a vectorized manner\nimport random # library for random number generation\n\n!conda install -c conda-forge geopy --yes \nfrom geopy.geocoders import Nominatim # module to convert an address into latitude and longitude values\n\n# libraries for displaying images\nfrom IPython.display import Image \nfrom IPython.core.display import HTML \n    \n# tranforming json file into a pandas dataframe library\nfrom pandas.io.json import json_normalize\n\n!conda install -c conda-forge folium=0.5.0 --yes\nimport folium # plotting library\n\nprint('Folium installed')\nprint('Libraries imported.')"
        }, 
        {
            "source": "### Define Foursquare Credentials and Version", 
            "cell_type": "markdown", 
            "metadata": {}
        }, 
        {
            "source": "##### Make sure that you have created a Foursquare developer account and have your credentials handy", 
            "cell_type": "markdown", 
            "metadata": {}
        }, 
        {
            "execution_count": 3, 
            "cell_type": "code", 
            "metadata": {}, 
            "outputs": [
                {
                    "output_type": "stream", 
                    "name": "stdout", 
                    "text": "Your credentails:\nCLIENT_ID: WA0EHL1G0GH0ODM2ODILFJ434IAUGF4VFKSMEDG1BZZU0HBR\nCLIENT_SECRET:5HWMV0D503W5OK2MMV4SEOVS5YCIMYVMNKZNDTAXNWCGGRDI\n"
                }
            ], 
            "source": "CLIENT_ID = 'WA0EHL1G0GH0ODM2ODILFJ434IAUGF4VFKSMEDG1BZZU0HBR' # your Foursquare ID\nCLIENT_SECRET = '5HWMV0D503W5OK2MMV4SEOVS5YCIMYVMNKZNDTAXNWCGGRDI' # your Foursquare Secret\nVERSION = '20180604'\nLIMIT = 30\nprint('Your credentails:')\nprint('CLIENT_ID: ' + CLIENT_ID)\nprint('CLIENT_SECRET:' + CLIENT_SECRET)"
        }, 
        {
            "source": "#### Let's again assume that you are staying at the Conrad hotel. So let's start by converting the Contrad Hotel's address to its latitude and longitude coordinates.", 
            "cell_type": "markdown", 
            "metadata": {}
        }, 
        {
            "source": "In order to define an instance of the geocoder, we need to define a user_agent. We will name our agent <em>foursquare_agent</em>, as shown below.", 
            "cell_type": "markdown", 
            "metadata": {}
        }, 
        {
            "execution_count": 4, 
            "cell_type": "code", 
            "metadata": {}, 
            "outputs": [
                {
                    "output_type": "stream", 
                    "name": "stdout", 
                    "text": "40.7149555 -74.0153365\n"
                }
            ], 
            "source": "#MY LOCATION OF Conrad hotel\naddress = '102 North End Ave, New York, NY'\n\ngeolocator = Nominatim(user_agent=\"foursquare_agent\")\nlocation = geolocator.geocode(address)\nlatitude = location.latitude\nlongitude = location.longitude\nprint(latitude, longitude)"
        }, 
        {
            "source": "## 1. Search for a specific venue category\n> `https://api.foursquare.com/v2/venues/`**search**`?client_id=`**CLIENT_ID**`&client_secret=`**CLIENT_SECRET**`&ll=`**LATITUDE**`,`**LONGITUDE**`&v=`**VERSION**`&query=`**QUERY**`&radius=`**RADIUS**`&limit=`**LIMIT**", 
            "cell_type": "markdown", 
            "metadata": {}
        }, 
        {
            "source": "#### Now, let's assume that it is lunch time, and you are craving Italian food. So, let's define a query to search for Italian food that is within 500 metres from the Conrad Hotel. ", 
            "cell_type": "markdown", 
            "metadata": {}
        }, 
        {
            "execution_count": 6, 
            "cell_type": "code", 
            "metadata": {}, 
            "outputs": [
                {
                    "output_type": "stream", 
                    "name": "stdout", 
                    "text": "Italian .... OK!\n"
                }
            ], 
            "source": "search_query = 'Italian'\nradius = 500\nprint(search_query + ' .... OK!')"
        }, 
        {
            "source": "#### Define the corresponding URL", 
            "cell_type": "markdown", 
            "metadata": {}
        }, 
        {
            "execution_count": 7, 
            "cell_type": "code", 
            "metadata": {}, 
            "outputs": [
                {
                    "execution_count": 7, 
                    "metadata": {}, 
                    "data": {
                        "text/plain": "'https://api.foursquare.com/v2/venues/search?client_id=WA0EHL1G0GH0ODM2ODILFJ434IAUGF4VFKSMEDG1BZZU0HBR&client_secret=5HWMV0D503W5OK2MMV4SEOVS5YCIMYVMNKZNDTAXNWCGGRDI&ll=40.7149555,-74.0153365&v=20180604&query=Italian&radius=500&limit=30'"
                    }, 
                    "output_type": "execute_result"
                }
            ], 
            "source": "url ='https://api.foursquare.com/v2/venues/search?client_id={}&client_secret={}&ll={},{}&v={}&query={}&radius={}&limit={}'.format(CLIENT_ID, CLIENT_SECRET, latitude, longitude, VERSION, search_query, radius, LIMIT)\nurl"
        }, 
        {
            "source": "#### Send the GET Request and examine the results", 
            "cell_type": "markdown", 
            "metadata": {}
        }, 
        {
            "execution_count": 8, 
            "cell_type": "code", 
            "metadata": {}, 
            "outputs": [
                {
                    "execution_count": 8, 
                    "metadata": {}, 
                    "data": {
                        "text/plain": "{'meta': {'code': 200, 'requestId': '5c59737b9fb6b768025ec536'},\n 'response': {'venues': [{'categories': [{'icon': {'prefix': 'https://ss3.4sqi.net/img/categories_v2/food/pizza_',\n       'suffix': '.png'},\n      'id': '4bf58dd8d48988d1ca941735',\n      'name': 'Pizza Place',\n      'pluralName': 'Pizza Places',\n      'primary': True,\n      'shortName': 'Pizza'}],\n    'delivery': {'id': '294544',\n     'provider': {'icon': {'name': '/delivery_provider_seamless_20180129.png',\n       'prefix': 'https://fastly.4sqi.net/img/general/cap/',\n       'sizes': [40, 50]},\n      'name': 'seamless'},\n     'url': 'https://www.seamless.com/menu/harrys-italian-pizza-bar-225-murray-st-new-york/294544?affiliate=1131&utm_source=foursquare-affiliate-network&utm_medium=affiliate&utm_campaign=1131&utm_content=294544'},\n    'hasPerk': False,\n    'id': '4fa862b3e4b0ebff2f749f06',\n    'location': {'address': '225 Murray St',\n     'cc': 'US',\n     'city': 'New York',\n     'country': 'United States',\n     'distance': 58,\n     'formattedAddress': ['225 Murray St',\n      'New York, NY 10282',\n      'United States'],\n     'labeledLatLngs': [{'label': 'display',\n       'lat': 40.71521779064671,\n       'lng': -74.01473940209351}],\n     'lat': 40.71521779064671,\n     'lng': -74.01473940209351,\n     'postalCode': '10282',\n     'state': 'NY'},\n    'name': \"Harry's Italian Pizza Bar\",\n    'referralId': 'v-1549366139'},\n   {'categories': [{'icon': {'prefix': 'https://ss3.4sqi.net/img/categories_v2/food/default_',\n       'suffix': '.png'},\n      'id': '4d4b7105d754a06374d81259',\n      'name': 'Food',\n      'pluralName': 'Food',\n      'primary': True,\n      'shortName': 'Food'}],\n    'hasPerk': False,\n    'id': '4f3232e219836c91c7bfde94',\n    'location': {'address': '63 W Broadway',\n     'cc': 'US',\n     'city': 'New York',\n     'country': 'United States',\n     'distance': 446,\n     'formattedAddress': ['63 W Broadway',\n      'New York, NY 10007',\n      'United States'],\n     'labeledLatLngs': [{'label': 'display',\n       'lat': 40.71446,\n       'lng': -74.010086}],\n     'lat': 40.71446,\n     'lng': -74.010086,\n     'postalCode': '10007',\n     'state': 'NY'},\n    'name': 'Conca Cucina Italian Restaurant',\n    'referralId': 'v-1549366139'},\n   {'categories': [{'icon': {'prefix': 'https://ss3.4sqi.net/img/categories_v2/food/italian_',\n       'suffix': '.png'},\n      'id': '4bf58dd8d48988d110941735',\n      'name': 'Italian Restaurant',\n      'pluralName': 'Italian Restaurants',\n      'primary': True,\n      'shortName': 'Italian'}],\n    'hasPerk': False,\n    'id': '3fd66200f964a520f4e41ee3',\n    'location': {'address': '124 Chambers St',\n     'cc': 'US',\n     'city': 'New York',\n     'country': 'United States',\n     'crossStreet': 'btwn Church St & W Broadway',\n     'distance': 549,\n     'formattedAddress': ['124 Chambers St (btwn Church St & W Broadway)',\n      'New York, NY 10007',\n      'United States'],\n     'labeledLatLngs': [{'label': 'display',\n       'lat': 40.71533713859952,\n       'lng': -74.00884766217825}],\n     'lat': 40.71533713859952,\n     'lng': -74.00884766217825,\n     'postalCode': '10007',\n     'state': 'NY'},\n    'name': 'Ecco',\n    'referralId': 'v-1549366139'}]}}"
                    }, 
                    "output_type": "execute_result"
                }
            ], 
            "source": "results = requests.get(url).json()\nresults"
        }, 
        {
            "source": "#### Get relevant part of JSON and transform it into a *pandas* dataframe", 
            "cell_type": "markdown", 
            "metadata": {}
        }, 
        {
            "execution_count": 9, 
            "cell_type": "code", 
            "metadata": {}, 
            "outputs": [
                {
                    "execution_count": 9, 
                    "metadata": {}, 
                    "data": {
                        "text/html": "<div>\n<style scoped>\n    .dataframe tbody tr th:only-of-type {\n        vertical-align: middle;\n    }\n\n    .dataframe tbody tr th {\n        vertical-align: top;\n    }\n\n    .dataframe thead th {\n        text-align: right;\n    }\n</style>\n<table border=\"1\" class=\"dataframe\">\n  <thead>\n    <tr style=\"text-align: right;\">\n      <th></th>\n      <th>categories</th>\n      <th>delivery.id</th>\n      <th>delivery.provider.icon.name</th>\n      <th>delivery.provider.icon.prefix</th>\n      <th>delivery.provider.icon.sizes</th>\n      <th>delivery.provider.name</th>\n      <th>delivery.url</th>\n      <th>hasPerk</th>\n      <th>id</th>\n      <th>location.address</th>\n      <th>...</th>\n      <th>location.crossStreet</th>\n      <th>location.distance</th>\n      <th>location.formattedAddress</th>\n      <th>location.labeledLatLngs</th>\n      <th>location.lat</th>\n      <th>location.lng</th>\n      <th>location.postalCode</th>\n      <th>location.state</th>\n      <th>name</th>\n      <th>referralId</th>\n    </tr>\n  </thead>\n  <tbody>\n    <tr>\n      <th>0</th>\n      <td>[{'id': '4bf58dd8d48988d1ca941735', 'icon': {'...</td>\n      <td>294544</td>\n      <td>/delivery_provider_seamless_20180129.png</td>\n      <td>https://fastly.4sqi.net/img/general/cap/</td>\n      <td>[40, 50]</td>\n      <td>seamless</td>\n      <td>https://www.seamless.com/menu/harrys-italian-p...</td>\n      <td>False</td>\n      <td>4fa862b3e4b0ebff2f749f06</td>\n      <td>225 Murray St</td>\n      <td>...</td>\n      <td>NaN</td>\n      <td>58</td>\n      <td>[225 Murray St, New York, NY 10282, United Sta...</td>\n      <td>[{'lng': -74.01473940209351, 'lat': 40.7152177...</td>\n      <td>40.715218</td>\n      <td>-74.014739</td>\n      <td>10282</td>\n      <td>NY</td>\n      <td>Harry's Italian Pizza Bar</td>\n      <td>v-1549366139</td>\n    </tr>\n    <tr>\n      <th>1</th>\n      <td>[{'id': '4d4b7105d754a06374d81259', 'icon': {'...</td>\n      <td>NaN</td>\n      <td>NaN</td>\n      <td>NaN</td>\n      <td>NaN</td>\n      <td>NaN</td>\n      <td>NaN</td>\n      <td>False</td>\n      <td>4f3232e219836c91c7bfde94</td>\n      <td>63 W Broadway</td>\n      <td>...</td>\n      <td>NaN</td>\n      <td>446</td>\n      <td>[63 W Broadway, New York, NY 10007, United Sta...</td>\n      <td>[{'lng': -74.010086, 'lat': 40.71446, 'label':...</td>\n      <td>40.714460</td>\n      <td>-74.010086</td>\n      <td>10007</td>\n      <td>NY</td>\n      <td>Conca Cucina Italian Restaurant</td>\n      <td>v-1549366139</td>\n    </tr>\n    <tr>\n      <th>2</th>\n      <td>[{'id': '4bf58dd8d48988d110941735', 'icon': {'...</td>\n      <td>NaN</td>\n      <td>NaN</td>\n      <td>NaN</td>\n      <td>NaN</td>\n      <td>NaN</td>\n      <td>NaN</td>\n      <td>False</td>\n      <td>3fd66200f964a520f4e41ee3</td>\n      <td>124 Chambers St</td>\n      <td>...</td>\n      <td>btwn Church St &amp; W Broadway</td>\n      <td>549</td>\n      <td>[124 Chambers St (btwn Church St &amp; W Broadway)...</td>\n      <td>[{'lng': -74.00884766217825, 'lat': 40.7153371...</td>\n      <td>40.715337</td>\n      <td>-74.008848</td>\n      <td>10007</td>\n      <td>NY</td>\n      <td>Ecco</td>\n      <td>v-1549366139</td>\n    </tr>\n  </tbody>\n</table>\n<p>3 rows \u00d7 23 columns</p>\n</div>", 
                        "text/plain": "                                          categories delivery.id  \\\n0  [{'id': '4bf58dd8d48988d1ca941735', 'icon': {'...      294544   \n1  [{'id': '4d4b7105d754a06374d81259', 'icon': {'...         NaN   \n2  [{'id': '4bf58dd8d48988d110941735', 'icon': {'...         NaN   \n\n                delivery.provider.icon.name  \\\n0  /delivery_provider_seamless_20180129.png   \n1                                       NaN   \n2                                       NaN   \n\n              delivery.provider.icon.prefix delivery.provider.icon.sizes  \\\n0  https://fastly.4sqi.net/img/general/cap/                     [40, 50]   \n1                                       NaN                          NaN   \n2                                       NaN                          NaN   \n\n  delivery.provider.name                                       delivery.url  \\\n0               seamless  https://www.seamless.com/menu/harrys-italian-p...   \n1                    NaN                                                NaN   \n2                    NaN                                                NaN   \n\n   hasPerk                        id location.address      ...       \\\n0    False  4fa862b3e4b0ebff2f749f06    225 Murray St      ...        \n1    False  4f3232e219836c91c7bfde94    63 W Broadway      ...        \n2    False  3fd66200f964a520f4e41ee3  124 Chambers St      ...        \n\n          location.crossStreet location.distance  \\\n0                          NaN                58   \n1                          NaN               446   \n2  btwn Church St & W Broadway               549   \n\n                           location.formattedAddress  \\\n0  [225 Murray St, New York, NY 10282, United Sta...   \n1  [63 W Broadway, New York, NY 10007, United Sta...   \n2  [124 Chambers St (btwn Church St & W Broadway)...   \n\n                             location.labeledLatLngs  location.lat  \\\n0  [{'lng': -74.01473940209351, 'lat': 40.7152177...     40.715218   \n1  [{'lng': -74.010086, 'lat': 40.71446, 'label':...     40.714460   \n2  [{'lng': -74.00884766217825, 'lat': 40.7153371...     40.715337   \n\n  location.lng location.postalCode  location.state  \\\n0   -74.014739               10282              NY   \n1   -74.010086               10007              NY   \n2   -74.008848               10007              NY   \n\n                              name    referralId  \n0        Harry's Italian Pizza Bar  v-1549366139  \n1  Conca Cucina Italian Restaurant  v-1549366139  \n2                             Ecco  v-1549366139  \n\n[3 rows x 23 columns]"
                    }, 
                    "output_type": "execute_result"
                }
            ], 
            "source": "# assign relevant part of JSON to venues\nvenues = results['response']['venues']\n\n# tranform venues into a dataframe\ndataframe = json_normalize(venues)\ndataframe.head()"
        }, 
        {
            "source": "#### Define information of interest and filter dataframe", 
            "cell_type": "markdown", 
            "metadata": {}
        }, 
        {
            "execution_count": 14, 
            "cell_type": "code", 
            "metadata": {}, 
            "outputs": [
                {
                    "execution_count": 14, 
                    "metadata": {}, 
                    "data": {
                        "text/html": "<div>\n<style scoped>\n    .dataframe tbody tr th:only-of-type {\n        vertical-align: middle;\n    }\n\n    .dataframe tbody tr th {\n        vertical-align: top;\n    }\n\n    .dataframe thead th {\n        text-align: right;\n    }\n</style>\n<table border=\"1\" class=\"dataframe\">\n  <thead>\n    <tr style=\"text-align: right;\">\n      <th></th>\n      <th>name</th>\n      <th>categories</th>\n      <th>address</th>\n      <th>cc</th>\n      <th>city</th>\n      <th>country</th>\n      <th>crossStreet</th>\n      <th>distance</th>\n      <th>formattedAddress</th>\n      <th>labeledLatLngs</th>\n      <th>lat</th>\n      <th>lng</th>\n      <th>postalCode</th>\n      <th>state</th>\n      <th>id</th>\n    </tr>\n  </thead>\n  <tbody>\n    <tr>\n      <th>0</th>\n      <td>Harry's Italian Pizza Bar</td>\n      <td>Pizza Place</td>\n      <td>225 Murray St</td>\n      <td>US</td>\n      <td>New York</td>\n      <td>United States</td>\n      <td>NaN</td>\n      <td>58</td>\n      <td>[225 Murray St, New York, NY 10282, United Sta...</td>\n      <td>[{'lng': -74.01473940209351, 'lat': 40.7152177...</td>\n      <td>40.715218</td>\n      <td>-74.014739</td>\n      <td>10282</td>\n      <td>NY</td>\n      <td>4fa862b3e4b0ebff2f749f06</td>\n    </tr>\n    <tr>\n      <th>1</th>\n      <td>Conca Cucina Italian Restaurant</td>\n      <td>Food</td>\n      <td>63 W Broadway</td>\n      <td>US</td>\n      <td>New York</td>\n      <td>United States</td>\n      <td>NaN</td>\n      <td>446</td>\n      <td>[63 W Broadway, New York, NY 10007, United Sta...</td>\n      <td>[{'lng': -74.010086, 'lat': 40.71446, 'label':...</td>\n      <td>40.714460</td>\n      <td>-74.010086</td>\n      <td>10007</td>\n      <td>NY</td>\n      <td>4f3232e219836c91c7bfde94</td>\n    </tr>\n    <tr>\n      <th>2</th>\n      <td>Ecco</td>\n      <td>Italian Restaurant</td>\n      <td>124 Chambers St</td>\n      <td>US</td>\n      <td>New York</td>\n      <td>United States</td>\n      <td>btwn Church St &amp; W Broadway</td>\n      <td>549</td>\n      <td>[124 Chambers St (btwn Church St &amp; W Broadway)...</td>\n      <td>[{'lng': -74.00884766217825, 'lat': 40.7153371...</td>\n      <td>40.715337</td>\n      <td>-74.008848</td>\n      <td>10007</td>\n      <td>NY</td>\n      <td>3fd66200f964a520f4e41ee3</td>\n    </tr>\n  </tbody>\n</table>\n</div>", 
                        "text/plain": "                              name          categories          address  cc  \\\n0        Harry's Italian Pizza Bar         Pizza Place    225 Murray St  US   \n1  Conca Cucina Italian Restaurant                Food    63 W Broadway  US   \n2                             Ecco  Italian Restaurant  124 Chambers St  US   \n\n       city        country                  crossStreet  distance  \\\n0  New York  United States                          NaN        58   \n1  New York  United States                          NaN       446   \n2  New York  United States  btwn Church St & W Broadway       549   \n\n                                    formattedAddress  \\\n0  [225 Murray St, New York, NY 10282, United Sta...   \n1  [63 W Broadway, New York, NY 10007, United Sta...   \n2  [124 Chambers St (btwn Church St & W Broadway)...   \n\n                                      labeledLatLngs        lat        lng  \\\n0  [{'lng': -74.01473940209351, 'lat': 40.7152177...  40.715218 -74.014739   \n1  [{'lng': -74.010086, 'lat': 40.71446, 'label':...  40.714460 -74.010086   \n2  [{'lng': -74.00884766217825, 'lat': 40.7153371...  40.715337 -74.008848   \n\n  postalCode state                        id  \n0      10282    NY  4fa862b3e4b0ebff2f749f06  \n1      10007    NY  4f3232e219836c91c7bfde94  \n2      10007    NY  3fd66200f964a520f4e41ee3  "
                    }, 
                    "output_type": "execute_result"
                }
            ], 
            "source": "# keep only columns that include venue name, and anything that is associated with location\nfiltered_columns = ['name', 'categories'] + [col for col in dataframe.columns if col.startswith('location.')] + ['id']\ndataframe_filtered = dataframe.loc[:, filtered_columns]\n# function that extracts the category of the venue\ndef get_category_type(row):\n    try:\n        categories_list = row['categories']\n    except:\n        categories_list = row['venue.categories']\n        \n    if len(categories_list) == 0:\n        return None\n    else:\n        return categories_list[0]['name']\n\n# filter the category for each row\ndataframe_filtered['categories'] = dataframe_filtered.apply(get_category_type, axis=1)\n\n# clean column names by keeping only last term\ndataframe_filtered.columns = [column.split('.')[-1] for column in dataframe_filtered.columns]\n\n\ndataframe_filtered"
        }, 
        {
            "source": "#### Let's visualize the Italian restaurants that are nearby", 
            "cell_type": "markdown", 
            "metadata": {}
        }, 
        {
            "execution_count": 15, 
            "cell_type": "code", 
            "metadata": {}, 
            "outputs": [
                {
                    "execution_count": 15, 
                    "metadata": {}, 
                    "data": {
                        "text/plain": "0          Harry's Italian Pizza Bar\n1    Conca Cucina Italian Restaurant\n2                               Ecco\nName: name, dtype: object"
                    }, 
                    "output_type": "execute_result"
                }
            ], 
            "source": "dataframe_filtered.name"
        }, 
        {
            "execution_count": 17, 
            "cell_type": "code", 
            "metadata": {}, 
            "outputs": [
                {
                    "execution_count": 17, 
                    "metadata": {}, 
                    "data": {
                        "text/plain": "0    4fa862b3e4b0ebff2f749f06\n1    4f3232e219836c91c7bfde94\n2    3fd66200f964a520f4e41ee3\nName: id, dtype: object"
                    }, 
                    "output_type": "execute_result"
                }
            ], 
            "source": "dataframe_filtered.id"
        }, 
        {
            "execution_count": 16, 
            "cell_type": "code", 
            "metadata": {}, 
            "outputs": [
                {
                    "execution_count": 16, 
                    "metadata": {}, 
                    "data": {
                        "text/html": "<div style=\"width:100%;\"><div style=\"position:relative;width:100%;height:0;padding-bottom:60%;\"><iframe src=\"data:text/html;charset=utf-8;base64,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\" style=\"position:absolute;width:100%;height:100%;left:0;top:0;border:none !important;\" allowfullscreen webkitallowfullscreen mozallowfullscreen></iframe></div></div>", 
                        "text/plain": "<folium.folium.Map at 0x7f4638820320>"
                    }, 
                    "output_type": "execute_result"
                }
            ], 
            "source": "venues_map = folium.Map(location=[latitude, longitude], zoom_start=13) # generate map centred around the Conrad Hotel\n\n# add a red circle marker to represent the Conrad Hotel\nfolium.features.CircleMarker(\n    [latitude, longitude],\n    radius=10,\n    color='red',\n    popup='Conrad Hotel',\n    fill = True,\n    fill_color = 'red',\n    fill_opacity = 0.6\n).add_to(venues_map)\n\n# add the Italian restaurants as blue circle markers\nfor lat, lng, label in zip(dataframe_filtered.lat, dataframe_filtered.lng, dataframe_filtered.categories):\n    folium.features.CircleMarker(\n        [lat, lng],\n        radius=5,\n        color='blue',\n        popup=label,\n        fill = True,\n        fill_color='blue',\n        fill_opacity=0.6\n    ).add_to(venues_map)\n\n# display map\nvenues_map"
        }, 
        {
            "source": "## 2. Explore a Given Venue\n> `https://api.foursquare.com/v2/venues/`**VENUE_ID**`?client_id=`**CLIENT_ID**`&client_secret=`**CLIENT_SECRET**`&v=`**VERSION**", 
            "cell_type": "markdown", 
            "metadata": {}
        }, 
        {
            "source": "### A. Let's explore the closest Italian restaurant -- _Harry's Italian Pizza Bar_", 
            "cell_type": "markdown", 
            "metadata": {}
        }, 
        {
            "execution_count": 18, 
            "cell_type": "code", 
            "metadata": {}, 
            "outputs": [
                {
                    "execution_count": 18, 
                    "metadata": {}, 
                    "data": {
                        "text/plain": "'https://api.foursquare.com/v2/venues/4fa862b3e4b0ebff2f749f06?client_id=WA0EHL1G0GH0ODM2ODILFJ434IAUGF4VFKSMEDG1BZZU0HBR&client_secret=5HWMV0D503W5OK2MMV4SEOVS5YCIMYVMNKZNDTAXNWCGGRDI&v=20180604'"
                    }, 
                    "output_type": "execute_result"
                }
            ], 
            "source": "venue_id = '4fa862b3e4b0ebff2f749f06' # ID of Harry's Italian Pizza Bar\nurl = 'https://api.foursquare.com/v2/venues/{}?client_id={}&client_secret={}&v={}'.format(venue_id, CLIENT_ID, CLIENT_SECRET, VERSION)\nurl"
        }, 
        {
            "source": "#### Send GET request for result", 
            "cell_type": "markdown", 
            "metadata": {}
        }, 
        {
            "execution_count": 20, 
            "cell_type": "code", 
            "metadata": {}, 
            "outputs": [
                {
                    "output_type": "stream", 
                    "name": "stdout", 
                    "text": "dict_keys(['attributes', 'ratingSignals', 'likes', 'url', 'popular', 'bestPhoto', 'canonicalUrl', 'allowMenuUrlEdit', 'verified', 'ok', 'stats', 'inbox', 'hasMenu', 'ratingColor', 'dislike', 'menu', 'rating', 'shortUrl', 'hours', 'pageUpdates', 'tips', 'hereNow', 'timeZone', 'categories', 'beenHere', 'location', 'colors', 'listed', 'photos', 'createdAt', 'id', 'price', 'delivery', 'name', 'contact', 'reasons', 'specials'])\n"
                }, 
                {
                    "execution_count": 20, 
                    "metadata": {}, 
                    "data": {
                        "text/plain": "{'allowMenuUrlEdit': True,\n 'attributes': {'groups': [{'count': 1,\n    'items': [{'displayName': 'Price', 'displayValue': '$$', 'priceTier': 2}],\n    'name': 'Price',\n    'summary': '$$',\n    'type': 'price'},\n   {'count': 7,\n    'items': [{'displayName': 'Credit Cards',\n      'displayValue': 'Yes (incl. American Express)'}],\n    'name': 'Credit Cards',\n    'summary': 'Credit Cards',\n    'type': 'payments'},\n   {'count': 1,\n    'items': [{'displayName': 'Outdoor Seating', 'displayValue': 'Yes'}],\n    'name': 'Outdoor Seating',\n    'summary': 'Outdoor Seating',\n    'type': 'outdoorSeating'},\n   {'count': 8,\n    'items': [{'displayName': 'Brunch', 'displayValue': 'Brunch'},\n     {'displayName': 'Lunch', 'displayValue': 'Lunch'},\n     {'displayName': 'Dinner', 'displayValue': 'Dinner'},\n     {'displayName': 'Happy Hour', 'displayValue': 'Happy Hour'}],\n    'name': 'Menus',\n    'summary': 'Happy Hour, Brunch & more',\n    'type': 'serves'},\n   {'count': 5,\n    'items': [{'displayName': 'Beer', 'displayValue': 'Beer'},\n     {'displayName': 'Wine', 'displayValue': 'Wine'},\n     {'displayName': 'Cocktails', 'displayValue': 'Cocktails'}],\n    'name': 'Drinks',\n    'summary': 'Beer, Wine & Cocktails',\n    'type': 'drinks'},\n   {'count': 5,\n    'items': [{'displayName': 'Delivery', 'displayValue': 'Delivery'}],\n    'name': 'Dining Options',\n    'summary': 'Delivery',\n    'type': 'diningOptions'}]},\n 'beenHere': {'count': 0,\n  'lastCheckinExpiredAt': 0,\n  'marked': False,\n  'unconfirmedCount': 0},\n 'bestPhoto': {'createdAt': 1336776717,\n  'height': 640,\n  'id': '4fad980de4b091b4626c3633',\n  'prefix': 'https://fastly.4sqi.net/img/general/',\n  'source': {'name': 'Foursquare for Android',\n   'url': 'https://foursquare.com/download/#/android'},\n  'suffix': '/ya1iQFI7pLjuIJp1PGDKlrZS3OJdHCF7tpILMmjv_2w.jpg',\n  'visibility': 'public',\n  'width': 480},\n 'canonicalUrl': 'https://foursquare.com/v/harrys-italian-pizza-bar/4fa862b3e4b0ebff2f749f06',\n 'categories': [{'icon': {'prefix': 'https://ss3.4sqi.net/img/categories_v2/food/pizza_',\n    'suffix': '.png'},\n   'id': '4bf58dd8d48988d1ca941735',\n   'name': 'Pizza Place',\n   'pluralName': 'Pizza Places',\n   'primary': True,\n   'shortName': 'Pizza'},\n  {'icon': {'prefix': 'https://ss3.4sqi.net/img/categories_v2/food/italian_',\n    'suffix': '.png'},\n   'id': '4bf58dd8d48988d110941735',\n   'name': 'Italian Restaurant',\n   'pluralName': 'Italian Restaurants',\n   'shortName': 'Italian'}],\n 'colors': {'algoVersion': 3,\n  'highlightColor': {'photoId': '4fad980de4b091b4626c3633',\n   'value': -13619152},\n  'highlightTextColor': {'photoId': '4fad980de4b091b4626c3633', 'value': -1}},\n 'contact': {'formattedPhone': '(212) 608-1007', 'phone': '2126081007'},\n 'createdAt': 1336435379,\n 'delivery': {'id': '294544',\n  'provider': {'icon': {'name': '/delivery_provider_seamless_20180129.png',\n    'prefix': 'https://fastly.4sqi.net/img/general/cap/',\n    'sizes': [40, 50]},\n   'name': 'seamless'},\n  'url': 'https://www.seamless.com/menu/harrys-italian-pizza-bar-225-murray-st-new-york/294544?affiliate=1131&utm_source=foursquare-affiliate-network&utm_medium=affiliate&utm_campaign=1131&utm_content=294544'},\n 'dislike': False,\n 'hasMenu': True,\n 'hereNow': {'count': 0, 'groups': [], 'summary': 'Nobody here'},\n 'hours': {'dayData': [],\n  'isLocalHoliday': False,\n  'isOpen': False,\n  'richStatus': {'entities': [], 'text': 'Closed until 11:30 AM'},\n  'status': 'Closed until 11:30 AM',\n  'timeframes': [{'days': 'Mon\u2013Wed, Sun',\n    'includesToday': True,\n    'open': [{'renderedTime': '11:30 AM\u201311:00 PM'}],\n    'segments': []},\n   {'days': 'Thu\u2013Sat',\n    'open': [{'renderedTime': '11:30 AM\u2013Midnight'}],\n    'segments': []}]},\n 'id': '4fa862b3e4b0ebff2f749f06',\n 'inbox': {'count': 0, 'items': []},\n 'likes': {'count': 119,\n  'groups': [{'count': 119, 'items': [], 'type': 'others'}],\n  'summary': '119 Likes'},\n 'listed': {'count': 50,\n  'groups': [{'count': 50,\n    'items': [{'canonicalUrl': 'https://foursquare.com/becca_mcarthur/list/manhattan-haunts',\n      'collaborative': False,\n      'createdAt': 1336094672,\n      'description': '',\n      'editable': False,\n      'followers': {'count': 22},\n      'id': '4fa32fd0e4b04193744746b1',\n      'listItems': {'count': 187,\n       'items': [{'createdAt': 1342934485,\n         'id': 'v4fa862b3e4b0ebff2f749f06'}]},\n      'name': 'Manhattan Haunts',\n      'photo': {'createdAt': 1317849414,\n       'height': 330,\n       'id': '4e8cc9461081e3b3544e12e5',\n       'prefix': 'https://fastly.4sqi.net/img/general/',\n       'suffix': '/0NLVU2HC1JF4DXIMKWUFW3QBUT31DC11EFNYYHMJG3NDWAPS.jpg',\n       'user': {'firstName': 'Time Out New York',\n        'gender': 'none',\n        'id': '742542',\n        'photo': {'prefix': 'https://fastly.4sqi.net/img/user/',\n         'suffix': '/XXHKCBSQHBORZNSR.jpg'},\n        'type': 'page'},\n       'visibility': 'public',\n       'width': 492},\n      'public': True,\n      'type': 'others',\n      'updatedAt': 1380845377,\n      'url': '/becca_mcarthur/list/manhattan-haunts',\n      'user': {'firstName': 'Becca',\n       'gender': 'female',\n       'id': '24592223',\n       'lastName': 'McArthur',\n       'photo': {'prefix': 'https://fastly.4sqi.net/img/user/',\n        'suffix': '/24592223-RAW2UYM0GIB1U40K.jpg'}}},\n     {'canonicalUrl': 'https://foursquare.com/kinosfault/list/usa-nyc-man-fidi',\n      'collaborative': False,\n      'createdAt': 1336836475,\n      'description': 'Where to go for decent eats in the restaurant wasteland of Downtown NYC aka FiDi, along with Tribeca & Battery Park City.',\n      'editable': False,\n      'followers': {'count': 20},\n      'id': '4fae817be4b085f6b2a74d19',\n      'listItems': {'count': 272,\n       'items': [{'createdAt': 1373909433,\n         'id': 'v4fa862b3e4b0ebff2f749f06'}]},\n      'name': 'USA NYC MAN FiDi',\n      'photo': {'createdAt': 1436043666,\n       'height': 960,\n       'id': '55984992498e13ba75e353bb',\n       'prefix': 'https://fastly.4sqi.net/img/general/',\n       'suffix': '/12113441_iOa6Uh-Xi8bhj2-gpzkkw8MKiAIs7RmOcz_RM7m8ink.jpg',\n       'user': {'firstName': 'Kino',\n        'gender': 'male',\n        'id': '12113441',\n        'photo': {'prefix': 'https://fastly.4sqi.net/img/user/',\n         'suffix': '/12113441-K5HTHFLU2MUCM0CM.jpg'}},\n       'visibility': 'public',\n       'width': 540},\n      'public': True,\n      'type': 'others',\n      'updatedAt': 1536019882,\n      'url': '/kinosfault/list/usa-nyc-man-fidi',\n      'user': {'firstName': 'Kino',\n       'gender': 'male',\n       'id': '12113441',\n       'photo': {'prefix': 'https://fastly.4sqi.net/img/user/',\n        'suffix': '/12113441-K5HTHFLU2MUCM0CM.jpg'}}},\n     {'canonicalUrl': 'https://foursquare.com/rickr7/list/nyc-resturants',\n      'collaborative': True,\n      'createdAt': 1339944944,\n      'description': '',\n      'editable': False,\n      'followers': {'count': 12},\n      'id': '4fddeff0e4b0e078037ac0d3',\n      'listItems': {'count': 195,\n       'items': [{'createdAt': 1514680908,\n         'id': 't54ed3b13498e857fd7dbb6fc'}]},\n      'name': 'NYC Resturants',\n      'photo': {'createdAt': 1349704979,\n       'height': 800,\n       'id': '5072dd13e4b09145cdf782d1',\n       'prefix': 'https://fastly.4sqi.net/img/general/',\n       'suffix': '/208205_fGh2OuAZ9qJ4agbAA5wMVNOSIm9kNUlRtNwj1N-adqg.jpg',\n       'user': {'firstName': 'Thalia',\n        'gender': 'female',\n        'id': '208205',\n        'lastName': 'K',\n        'photo': {'prefix': 'https://fastly.4sqi.net/img/user/',\n         'suffix': '/SNOOLCAW2AG04ZKD.jpg'}},\n       'visibility': 'public',\n       'width': 800},\n      'public': True,\n      'type': 'others',\n      'updatedAt': 1548750296,\n      'url': '/rickr7/list/nyc-resturants',\n      'user': {'firstName': 'Richard',\n       'gender': 'male',\n       'id': '21563126',\n       'lastName': 'Revilla',\n       'photo': {'prefix': 'https://fastly.4sqi.net/img/user/',\n        'suffix': '/21563126_v05J1KPw_SVj6Ehq9g8B9jeAGjFUMsU5QGl-NZ8inUQ7pKQm5bKplW37EmR7jS2A7GYPBBAtl.jpg'}}},\n     {'canonicalUrl': 'https://foursquare.com/sweetiewill/list/foodie-love-in-ny--02',\n      'collaborative': False,\n      'createdAt': 1382467210,\n      'description': '',\n      'editable': False,\n      'followers': {'count': 7},\n      'id': '5266c68a498e7c667807fe09',\n      'listItems': {'count': 200,\n       'items': [{'createdAt': 1386809936,\n         'id': 'v4fa862b3e4b0ebff2f749f06'}]},\n      'name': 'Foodie Love in NY - 02',\n      'public': True,\n      'type': 'others',\n      'updatedAt': 1391995585,\n      'url': '/sweetiewill/list/foodie-love-in-ny--02',\n      'user': {'firstName': 'WiLL',\n       'gender': 'male',\n       'id': '547977',\n       'photo': {'prefix': 'https://fastly.4sqi.net/img/user/',\n        'suffix': '/-Q5NYGDMFDMOITQRR.jpg'}}}],\n    'name': 'Lists from other people',\n    'type': 'others'}]},\n 'location': {'address': '225 Murray St',\n  'cc': 'US',\n  'city': 'New York',\n  'country': 'United States',\n  'formattedAddress': ['225 Murray St', 'New York, NY 10282', 'United States'],\n  'labeledLatLngs': [{'label': 'display',\n    'lat': 40.71521779064671,\n    'lng': -74.01473940209351}],\n  'lat': 40.71521779064671,\n  'lng': -74.01473940209351,\n  'postalCode': '10282',\n  'state': 'NY'},\n 'menu': {'anchor': 'View Menu',\n  'label': 'Menu',\n  'mobileUrl': 'https://foursquare.com/v/4fa862b3e4b0ebff2f749f06/device_menu',\n  'type': 'Menu',\n  'url': 'https://foursquare.com/v/harrys-italian-pizza-bar/4fa862b3e4b0ebff2f749f06/menu'},\n 'name': \"Harry's Italian Pizza Bar\",\n 'ok': False,\n 'pageUpdates': {'count': 0, 'items': []},\n 'photos': {'count': 146,\n  'groups': [{'count': 0,\n    'items': [],\n    'name': \"Friends' check-in photos\",\n    'type': 'checkin'},\n   {'count': 146,\n    'items': [{'createdAt': 1336776717,\n      'height': 640,\n      'id': '4fad980de4b091b4626c3633',\n      'prefix': 'https://fastly.4sqi.net/img/general/',\n      'source': {'name': 'Foursquare for Android',\n       'url': 'https://foursquare.com/download/#/android'},\n      'suffix': '/ya1iQFI7pLjuIJp1PGDKlrZS3OJdHCF7tpILMmjv_2w.jpg',\n      'user': {'firstName': 'Leony',\n       'gender': 'none',\n       'id': '13676709',\n       'lastName': 'Naciri',\n       'photo': {'prefix': 'https://fastly.4sqi.net/img/user/',\n        'suffix': '/T0ANFNGNMCHUDEUE.jpg'}},\n      'visibility': 'public',\n      'width': 480}],\n    'name': 'Venue photos',\n    'type': 'venue'}],\n  'summary': '0 photos'},\n 'popular': {'isLocalHoliday': False,\n  'isOpen': False,\n  'timeframes': [{'days': 'Today',\n    'includesToday': True,\n    'open': [{'renderedTime': 'Noon\u20132:00 PM'},\n     {'renderedTime': '5:00 PM\u201310:00 PM'}],\n    'segments': []},\n   {'days': 'Wed\u2013Thu',\n    'open': [{'renderedTime': 'Noon\u20132:00 PM'},\n     {'renderedTime': '5:00 PM\u201310:00 PM'}],\n    'segments': []},\n   {'days': 'Fri',\n    'open': [{'renderedTime': 'Noon\u20133:00 PM'},\n     {'renderedTime': '5:00 PM\u201311:00 PM'}],\n    'segments': []},\n   {'days': 'Sat',\n    'open': [{'renderedTime': 'Noon\u201311:00 PM'}],\n    'segments': []},\n   {'days': 'Sun',\n    'open': [{'renderedTime': 'Noon\u20133:00 PM'},\n     {'renderedTime': '5:00 PM\u20138:00 PM'}],\n    'segments': []},\n   {'days': 'Mon',\n    'open': [{'renderedTime': 'Noon\u20132:00 PM'},\n     {'renderedTime': '6:00 PM\u20138:00 PM'}],\n    'segments': []}]},\n 'price': {'currency': '$', 'message': 'Moderate', 'tier': 2},\n 'rating': 7.1,\n 'ratingColor': 'C5DE35',\n 'ratingSignals': 209,\n 'reasons': {'count': 1,\n  'items': [{'reasonName': 'rawLikesReason',\n    'summary': 'Lots of people like this place',\n    'type': 'general'}]},\n 'shortUrl': 'http://4sq.com/JNblHV',\n 'specials': {'count': 0, 'items': []},\n 'stats': {'tipCount': 55},\n 'timeZone': 'America/New_York',\n 'tips': {'count': 55,\n  'groups': [{'count': 55,\n    'items': [{'agreeCount': 4,\n      'canonicalUrl': 'https://foursquare.com/item/53d27909498e0523841340b6',\n      'createdAt': 1406302473,\n      'disagreeCount': 0,\n      'id': '53d27909498e0523841340b6',\n      'lang': 'en',\n      'likes': {'count': 4,\n       'groups': [{'count': 4,\n         'items': [{'firstName': 'P.',\n           'gender': 'male',\n           'id': '369426',\n           'lastName': 'M.',\n           'photo': {'prefix': 'https://fastly.4sqi.net/img/user/',\n            'suffix': '/JPQYUWJKUT0H2OO4.jpg'}},\n          {'firstName': 'Diane',\n           'gender': 'female',\n           'id': '87587879',\n           'lastName': 'Danneels',\n           'photo': {'prefix': 'https://fastly.4sqi.net/img/user/',\n            'suffix': '/87587879-ESLRSZLQ2CBE2P4W.jpg'}},\n          {'firstName': 'Tim',\n           'gender': 'male',\n           'id': '87591341',\n           'lastName': 'Sheehan',\n           'photo': {'prefix': 'https://fastly.4sqi.net/img/user/',\n            'suffix': '/-Z4YK4VKE0JSVXIY1.jpg'}},\n          {'firstName': 'TenantKing.com',\n           'gender': 'none',\n           'id': '87473404',\n           'photo': {'prefix': 'https://fastly.4sqi.net/img/user/',\n            'suffix': '/87473404-HI5DTBTK0HX401CA.png'},\n           'type': 'page'}],\n         'type': 'others'}],\n       'summary': '4 likes'},\n      'logView': True,\n      'text': \"Harry's Italian Pizza bar is known for it's amazing pizza, but did you know that the brunches here are amazing too? Try the Nutella French toast and we know you'll be sold.\",\n      'todo': {'count': 0},\n      'type': 'user',\n      'user': {'firstName': 'TenantKing.com',\n       'gender': 'none',\n       'id': '87473404',\n       'photo': {'prefix': 'https://fastly.4sqi.net/img/user/',\n        'suffix': '/87473404-HI5DTBTK0HX401CA.png'},\n       'type': 'page'}}],\n    'name': 'All tips',\n    'type': 'others'}]},\n 'url': 'http://harrysitalian.com',\n 'verified': False}"
                    }, 
                    "output_type": "execute_result"
                }
            ], 
            "source": "result = requests.get(url).json()\nprint(result['response']['venue'].keys())\nresult['response']['venue']"
        }, 
        {
            "source": "### B. Get the venue's overall rating", 
            "cell_type": "markdown", 
            "metadata": {}
        }, 
        {
            "execution_count": 21, 
            "cell_type": "code", 
            "metadata": {}, 
            "outputs": [
                {
                    "output_type": "stream", 
                    "name": "stdout", 
                    "text": "7.1\n"
                }
            ], 
            "source": "try:\n    print(result['response']['venue']['rating'])\nexcept:\n    print('This venue has not been rated yet.')"
        }, 
        {
            "source": "That is not a very good rating. Let's check the rating of the second closest Italian restaurant.", 
            "cell_type": "markdown", 
            "metadata": {}
        }, 
        {
            "execution_count": 22, 
            "cell_type": "code", 
            "metadata": {}, 
            "outputs": [
                {
                    "output_type": "stream", 
                    "name": "stdout", 
                    "text": "This venue has not been rated yet.\n"
                }
            ], 
            "source": "venue_id = '4f3232e219836c91c7bfde94' # ID of Conca Cucina Italian Restaurant\nurl = 'https://api.foursquare.com/v2/venues/{}?client_id={}&client_secret={}&v={}'.format(venue_id, CLIENT_ID, CLIENT_SECRET, VERSION)\n\nresult = requests.get(url).json()\ntry:\n    print(result['response']['venue']['rating'])\nexcept:\n    print('This venue has not been rated yet.')"
        }, 
        {
            "source": "Since this restaurant has no ratings, let's check the third restaurant.", 
            "cell_type": "markdown", 
            "metadata": {}
        }, 
        {
            "execution_count": 23, 
            "cell_type": "code", 
            "metadata": {}, 
            "outputs": [
                {
                    "output_type": "stream", 
                    "name": "stdout", 
                    "text": "7.9\n"
                }
            ], 
            "source": "venue_id = '3fd66200f964a520f4e41ee3' # ID of Ecco\nurl = 'https://api.foursquare.com/v2/venues/{}?client_id={}&client_secret={}&v={}'.format(venue_id, CLIENT_ID, CLIENT_SECRET, VERSION)\n\nresult = requests.get(url).json()\ntry:\n    print(result['response']['venue']['rating'])\nexcept:\n    print('This venue has not been rated yet.')"
        }, 
        {
            "source": "### C. Get the number of tips", 
            "cell_type": "markdown", 
            "metadata": {}
        }, 
        {
            "execution_count": 24, 
            "cell_type": "code", 
            "metadata": {}, 
            "outputs": [
                {
                    "execution_count": 24, 
                    "metadata": {}, 
                    "data": {
                        "text/plain": "16"
                    }, 
                    "output_type": "execute_result"
                }
            ], 
            "source": "result['response']['venue']['tips']['count']"
        }, 
        {
            "source": "### D. Get the venue's tips\n> `https://api.foursquare.com/v2/venues/`**VENUE_ID**`/tips?client_id=`**CLIENT_ID**`&client_secret=`**CLIENT_SECRET**`&v=`**VERSION**`&limit=`**LIMIT**", 
            "cell_type": "markdown", 
            "metadata": {}
        }, 
        {
            "source": "#### Create URL and send GET request. Make sure to set limit to get all tips", 
            "cell_type": "markdown", 
            "metadata": {}
        }, 
        {
            "execution_count": 25, 
            "cell_type": "code", 
            "metadata": {}, 
            "outputs": [
                {
                    "execution_count": 25, 
                    "metadata": {}, 
                    "data": {
                        "text/plain": "{'meta': {'code': 200, 'requestId': '5c5983ad4c1f67455668f0b5'},\n 'response': {'tips': {'count': 16,\n   'items': [{'agreeCount': 2,\n     'authorInteractionType': 'liked',\n     'canonicalUrl': 'https://foursquare.com/item/5ab1cb46c9a517174651d3fe',\n     'createdAt': 1521601350,\n     'disagreeCount': 0,\n     'id': '5ab1cb46c9a517174651d3fe',\n     'lang': 'en',\n     'likes': {'count': 0, 'groups': []},\n     'logView': True,\n     'text': 'A+ Italian food! Trust me on this: my mom\u2019s side of the family is 100% Italian. I was born and bred to know good pasta when I see it, and Ecco is one of my all-time NYC favorites',\n     'todo': {'count': 0},\n     'type': 'user',\n     'user': {'firstName': 'Nick',\n      'gender': 'male',\n      'id': '484542633',\n      'lastName': 'El-Tawil',\n      'photo': {'prefix': 'https://fastly.4sqi.net/img/user/',\n       'suffix': '/484542633_mK2Yum7T_7Tn9fWpndidJsmw2Hof_6T5vJBKCHPLMK5OL-U5ZiJGj51iwBstcpDLYa3Zvhvis.jpg'}}}]}}}"
                    }, 
                    "output_type": "execute_result"
                }
            ], 
            "source": "## Ecco Tips\nlimit = 15 # set limit to be greater than or equal to the total number of tips\nurl = 'https://api.foursquare.com/v2/venues/{}/tips?client_id={}&client_secret={}&v={}&limit={}'.format(venue_id, CLIENT_ID, CLIENT_SECRET, VERSION, limit)\n\nresults = requests.get(url).json()\nresults"
        }, 
        {
            "source": "#### Get tips and list of associated features", 
            "cell_type": "markdown", 
            "metadata": {}
        }, 
        {
            "execution_count": 26, 
            "cell_type": "code", 
            "metadata": {}, 
            "outputs": [
                {
                    "execution_count": 26, 
                    "metadata": {}, 
                    "data": {
                        "text/plain": "dict_keys(['likes', 'authorInteractionType', 'todo', 'canonicalUrl', 'agreeCount', 'text', 'createdAt', 'logView', 'lang', 'type', 'user', 'id', 'disagreeCount'])"
                    }, 
                    "output_type": "execute_result"
                }
            ], 
            "source": "tips = results['response']['tips']['items']\n\ntip = results['response']['tips']['items'][0]\ntip.keys()"
        }, 
        {
            "source": "#### Format column width and display all tips", 
            "cell_type": "markdown", 
            "metadata": {}
        }, 
        {
            "execution_count": 27, 
            "cell_type": "code", 
            "metadata": {}, 
            "outputs": [
                {
                    "execution_count": 27, 
                    "metadata": {}, 
                    "data": {
                        "text/html": "<div>\n<style scoped>\n    .dataframe tbody tr th:only-of-type {\n        vertical-align: middle;\n    }\n\n    .dataframe tbody tr th {\n        vertical-align: top;\n    }\n\n    .dataframe thead th {\n        text-align: right;\n    }\n</style>\n<table border=\"1\" class=\"dataframe\">\n  <thead>\n    <tr style=\"text-align: right;\">\n      <th></th>\n      <th>text</th>\n      <th>agreeCount</th>\n      <th>disagreeCount</th>\n      <th>id</th>\n      <th>user.firstName</th>\n      <th>user.lastName</th>\n      <th>user.gender</th>\n      <th>user.id</th>\n    </tr>\n  </thead>\n  <tbody>\n    <tr>\n      <th>0</th>\n      <td>A+ Italian food! Trust me on this: my mom\u2019s side of the family is 100% Italian. I was born and bred to know good pasta when I see it, and Ecco is one of my all-time NYC favorites</td>\n      <td>2</td>\n      <td>0</td>\n      <td>5ab1cb46c9a517174651d3fe</td>\n      <td>Nick</td>\n      <td>El-Tawil</td>\n      <td>male</td>\n      <td>484542633</td>\n    </tr>\n  </tbody>\n</table>\n</div>", 
                        "text/plain": "                                                                                                                                                                                 text  \\\n0  A+ Italian food! Trust me on this: my mom\u2019s side of the family is 100% Italian. I was born and bred to know good pasta when I see it, and Ecco is one of my all-time NYC favorites   \n\n   agreeCount  disagreeCount                        id user.firstName  \\\n0  2           0              5ab1cb46c9a517174651d3fe  Nick            \n\n  user.lastName user.gender    user.id  \n0  El-Tawil      male        484542633  "
                    }, 
                    "output_type": "execute_result"
                }
            ], 
            "source": "pd.set_option('display.max_colwidth', -1)\n\ntips_df = json_normalize(tips) # json normalize tips\n\n# columns to keep\nfiltered_columns = ['text', 'agreeCount', 'disagreeCount', 'id', 'user.firstName', 'user.lastName', 'user.gender', 'user.id']\ntips_filtered = tips_df.loc[:, filtered_columns]\n\n# display tips\ntips_filtered"
        }, 
        {
            "source": "Now remember that because we are using a personal developer account, then we can access only 2 of the restaurant's tips, instead of all 15 tips.", 
            "cell_type": "markdown", 
            "metadata": {}
        }, 
        {
            "source": "## 3. Search a Foursquare User\n> `https://api.foursquare.com/v2/users/`**USER_ID**`?client_id=`**CLIENT_ID**`&client_secret=`**CLIENT_SECRET**`&v=`**VERSION**", 
            "cell_type": "markdown", 
            "metadata": {}
        }, 
        {
            "source": "### Define URL, send GET request and display features associated with user", 
            "cell_type": "markdown", 
            "metadata": {}
        }, 
        {
            "execution_count": 29, 
            "cell_type": "code", 
            "metadata": {}, 
            "outputs": [
                {
                    "execution_count": 29, 
                    "metadata": {}, 
                    "data": {
                        "text/plain": "dict_keys(['mayorships', 'photo', 'tips', 'gender', 'lists', 'lastName', 'firstName', 'type', 'lenses', 'bio', 'photos', 'id', 'checkins', 'homeCity', 'canonicalUrl', 'contact', 'friends'])"
                    }, 
                    "output_type": "execute_result"
                }
            ], 
            "source": "user_id = '484542633' # user ID with most agree counts and complete profile\n\nurl = 'https://api.foursquare.com/v2/users/{}?client_id={}&client_secret={}&v={}'.format(user_id, CLIENT_ID, CLIENT_SECRET, VERSION) # define URL\n\n# send GET request\nresults = requests.get(url).json()\nuser_data = results['response']['user']\n\n# display features associated with user\nuser_data.keys()"
        }, 
        {
            "execution_count": 30, 
            "cell_type": "code", 
            "metadata": {}, 
            "outputs": [
                {
                    "output_type": "stream", 
                    "name": "stdout", 
                    "text": "First Name: Nick\nLast Name: El-Tawil\nHome City: New York, NY\n"
                }
            ], 
            "source": "print('First Name: ' + user_data['firstName'])\nprint('Last Name: ' + user_data['lastName'])\nprint('Home City: ' + user_data['homeCity'])"
        }, 
        {
            "source": "#### How many tips has this user submitted?", 
            "cell_type": "markdown", 
            "metadata": {}
        }, 
        {
            "execution_count": 31, 
            "cell_type": "code", 
            "metadata": {}, 
            "outputs": [
                {
                    "execution_count": 31, 
                    "metadata": {}, 
                    "data": {
                        "text/plain": "{'count': 242}"
                    }, 
                    "output_type": "execute_result"
                }
            ], 
            "source": "user_data['tips']"
        }, 
        {
            "source": "Wow! So it turns out that Nick is a very active Foursquare user, with more than 250 tips.", 
            "cell_type": "markdown", 
            "metadata": {}
        }, 
        {
            "source": "### Get User's tips", 
            "cell_type": "markdown", 
            "metadata": {}
        }, 
        {
            "execution_count": 32, 
            "cell_type": "code", 
            "metadata": {}, 
            "outputs": [
                {
                    "execution_count": 32, 
                    "metadata": {}, 
                    "data": {
                        "text/html": "<div>\n<style scoped>\n    .dataframe tbody tr th:only-of-type {\n        vertical-align: middle;\n    }\n\n    .dataframe tbody tr th {\n        vertical-align: top;\n    }\n\n    .dataframe thead th {\n        text-align: right;\n    }\n</style>\n<table border=\"1\" class=\"dataframe\">\n  <thead>\n    <tr style=\"text-align: right;\">\n      <th></th>\n      <th>text</th>\n      <th>agreeCount</th>\n      <th>disagreeCount</th>\n      <th>id</th>\n    </tr>\n  </thead>\n  <tbody>\n    <tr>\n      <th>0</th>\n      <td>The best! I\u2019m especially fond of the salmon burger, but I\u2019ve had half of the menu and never been disappointed. There\u2019s a reason this place is well known even outside of the Village!</td>\n      <td>1</td>\n      <td>0</td>\n      <td>5aec594b1f7440002c138612</td>\n    </tr>\n    <tr>\n      <th>1</th>\n      <td>I used to down a pint of chocolate like it was nothing back when I was bulking. Highly recommended!</td>\n      <td>1</td>\n      <td>0</td>\n      <td>5accc9f66fa81f196724807b</td>\n    </tr>\n    <tr>\n      <th>2</th>\n      <td>They serve coffee!!!!!!</td>\n      <td>1</td>\n      <td>0</td>\n      <td>5accc98c0313204c9d7ec157</td>\n    </tr>\n    <tr>\n      <th>3</th>\n      <td>I\u2019m a fan. In fact, I\u2019m such a big fan, I want Taim to hire me to be their spokesman. Kind of like the Arabic Jared Fogle - but without the kid stuff.</td>\n      <td>1</td>\n      <td>0</td>\n      <td>5accbf033abcaf09a24612a0</td>\n    </tr>\n    <tr>\n      <th>4</th>\n      <td>The linguine with clams is on point \ud83d\udc4c</td>\n      <td>1</td>\n      <td>0</td>\n      <td>5accbe3a911fc423730f3ed3</td>\n    </tr>\n    <tr>\n      <th>5</th>\n      <td>Great for a quick, cheap lunch! Shorter lines than Chipotle too\ud83d\udc4c</td>\n      <td>1</td>\n      <td>0</td>\n      <td>5acbecb86fa81f1967e019b0</td>\n    </tr>\n    <tr>\n      <th>6</th>\n      <td>Quick, cheap lunch that tastes good! Way shorter line than Chipotle, too.</td>\n      <td>1</td>\n      <td>0</td>\n      <td>5acbec70a0215b732e264fe8</td>\n    </tr>\n    <tr>\n      <th>7</th>\n      <td>You\u2019re not a real New Yorker until you\u2019ve shame-ordered Insomnia Cookies for delivery at 3am</td>\n      <td>1</td>\n      <td>0</td>\n      <td>5acbbd4eb1538e45373b07f5</td>\n    </tr>\n    <tr>\n      <th>8</th>\n      <td>Good for you yet still tasty! Clean green protein is my go-to after I hit the gym \ud83d\udcaa</td>\n      <td>2</td>\n      <td>0</td>\n      <td>5acbbcda01235808d5d6dc75</td>\n    </tr>\n    <tr>\n      <th>9</th>\n      <td>Coffee game on point</td>\n      <td>1</td>\n      <td>0</td>\n      <td>5acbbb1501235808d5d6525e</td>\n    </tr>\n    <tr>\n      <th>10</th>\n      <td>This is the dive bar to end all other dive bars. Go here if you like cheap drinks! \ud83e\udd43</td>\n      <td>1</td>\n      <td>0</td>\n      <td>5ab576abea1e444f2abb051e</td>\n    </tr>\n    <tr>\n      <th>11</th>\n      <td>Burger game strong \ud83d\udcaa</td>\n      <td>1</td>\n      <td>0</td>\n      <td>5ab575fb6bdee65f759da8c1</td>\n    </tr>\n    <tr>\n      <th>12</th>\n      <td>Great burgers &amp; fries! Also, this place is exactly what it\u2019s like when you go to a bar in the Southwest. Source: I\u2019m from Arizona.</td>\n      <td>2</td>\n      <td>0</td>\n      <td>5ab5575d73fe2516ad8f363b</td>\n    </tr>\n    <tr>\n      <th>13</th>\n      <td>That guy looks familiar...</td>\n      <td>1</td>\n      <td>0</td>\n      <td>5ab5299635f98312029a53b7</td>\n    </tr>\n    <tr>\n      <th>14</th>\n      <td>A\u00e7a\u00ed bowl + peanut butter + whey protein = \ud83d\udcaa\ud83d\udcaa\ud83d\udcaa</td>\n      <td>1</td>\n      <td>0</td>\n      <td>5ab42db53c858d64af2688a4</td>\n    </tr>\n  </tbody>\n</table>\n</div>", 
                        "text/plain": "                                                                                                                                                                                     text  \\\n0   The best! I\u2019m especially fond of the salmon burger, but I\u2019ve had half of the menu and never been disappointed. There\u2019s a reason this place is well known even outside of the Village!   \n1   I used to down a pint of chocolate like it was nothing back when I was bulking. Highly recommended!                                                                                     \n2   They serve coffee!!!!!!                                                                                                                                                                 \n3   I\u2019m a fan. In fact, I\u2019m such a big fan, I want Taim to hire me to be their spokesman. Kind of like the Arabic Jared Fogle - but without the kid stuff.                                  \n4   The linguine with clams is on point \ud83d\udc4c                                                                                                                                                   \n5   Great for a quick, cheap lunch! Shorter lines than Chipotle too\ud83d\udc4c                                                                                                                        \n6   Quick, cheap lunch that tastes good! Way shorter line than Chipotle, too.                                                                                                               \n7   You\u2019re not a real New Yorker until you\u2019ve shame-ordered Insomnia Cookies for delivery at 3am                                                                                            \n8   Good for you yet still tasty! Clean green protein is my go-to after I hit the gym \ud83d\udcaa                                                                                                     \n9   Coffee game on point                                                                                                                                                                    \n10  This is the dive bar to end all other dive bars. Go here if you like cheap drinks! \ud83e\udd43                                                                                                    \n11  Burger game strong \ud83d\udcaa                                                                                                                                                                    \n12  Great burgers & fries! Also, this place is exactly what it\u2019s like when you go to a bar in the Southwest. Source: I\u2019m from Arizona.                                                      \n13  That guy looks familiar...                                                                                                                                                              \n14  A\u00e7a\u00ed bowl + peanut butter + whey protein = \ud83d\udcaa\ud83d\udcaa\ud83d\udcaa                                                                                                                                          \n\n    agreeCount  disagreeCount                        id  \n0   1           0              5aec594b1f7440002c138612  \n1   1           0              5accc9f66fa81f196724807b  \n2   1           0              5accc98c0313204c9d7ec157  \n3   1           0              5accbf033abcaf09a24612a0  \n4   1           0              5accbe3a911fc423730f3ed3  \n5   1           0              5acbecb86fa81f1967e019b0  \n6   1           0              5acbec70a0215b732e264fe8  \n7   1           0              5acbbd4eb1538e45373b07f5  \n8   2           0              5acbbcda01235808d5d6dc75  \n9   1           0              5acbbb1501235808d5d6525e  \n10  1           0              5ab576abea1e444f2abb051e  \n11  1           0              5ab575fb6bdee65f759da8c1  \n12  2           0              5ab5575d73fe2516ad8f363b  \n13  1           0              5ab5299635f98312029a53b7  \n14  1           0              5ab42db53c858d64af2688a4  "
                    }, 
                    "output_type": "execute_result"
                }
            ], 
            "source": "# define tips URL\nurl = 'https://api.foursquare.com/v2/users/{}/tips?client_id={}&client_secret={}&v={}&limit={}'.format(user_id, CLIENT_ID, CLIENT_SECRET, VERSION, limit)\n\n# send GET request and get user's tips\nresults = requests.get(url).json()\ntips = results['response']['tips']['items']\n\n# format column width\npd.set_option('display.max_colwidth', -1)\n\ntips_df = json_normalize(tips)\n\n# filter columns\nfiltered_columns = ['text', 'agreeCount', 'disagreeCount', 'id']\ntips_filtered = tips_df.loc[:, filtered_columns]\n\n# display user's tips\ntips_filtered"
        }, 
        {
            "source": "#### Let's get the venue for the tip with the greatest number of agree counts", 
            "cell_type": "markdown", 
            "metadata": {}
        }, 
        {
            "execution_count": 33, 
            "cell_type": "code", 
            "metadata": {}, 
            "outputs": [
                {
                    "output_type": "stream", 
                    "name": "stdout", 
                    "text": "Cowgirl\n{'country': 'United States', 'cc': 'US', 'labeledLatLngs': [{'lng': -74.0062998849649, 'lat': 40.73373338282062, 'label': 'display'}], 'lat': 40.73373338282062, 'city': 'New York', 'address': '519 Hudson St', 'lng': -74.0062998849649, 'formattedAddress': ['519 Hudson St (at W 10th St)', 'New York, NY 10014', 'United States'], 'crossStreet': 'at W 10th St', 'postalCode': '10014', 'state': 'NY'}\n"
                }
            ], 
            "source": "tip_id = '5ab5575d73fe2516ad8f363b' # tip id\n\n# define URL\nurl = 'http://api.foursquare.com/v2/tips/{}?client_id={}&client_secret={}&v={}'.format(tip_id, CLIENT_ID, CLIENT_SECRET, VERSION)\n\n# send GET Request and examine results\nresult = requests.get(url).json()\nprint(result['response']['tip']['venue']['name'])\nprint(result['response']['tip']['venue']['location'])"
        }, 
        {
            "source": "### Get User's friends", 
            "cell_type": "markdown", 
            "metadata": {}
        }, 
        {
            "execution_count": 34, 
            "cell_type": "code", 
            "metadata": {}, 
            "outputs": [
                {
                    "execution_count": 34, 
                    "metadata": {}, 
                    "data": {
                        "text/html": "<div>\n<style scoped>\n    .dataframe tbody tr th:only-of-type {\n        vertical-align: middle;\n    }\n\n    .dataframe tbody tr th {\n        vertical-align: top;\n    }\n\n    .dataframe thead th {\n        text-align: right;\n    }\n</style>\n<table border=\"1\" class=\"dataframe\">\n  <thead>\n    <tr style=\"text-align: right;\">\n      <th></th>\n    </tr>\n  </thead>\n  <tbody>\n  </tbody>\n</table>\n</div>", 
                        "text/plain": "Empty DataFrame\nColumns: []\nIndex: []"
                    }, 
                    "output_type": "execute_result"
                }
            ], 
            "source": "user_friends = json_normalize(user_data['friends']['groups'][0]['items'])\nuser_friends"
        }, 
        {
            "source": "Interesting. Despite being very active, it turns out that Nick does not have any friends on Foursquare. This might definitely change in the future.", 
            "cell_type": "markdown", 
            "metadata": {}
        }, 
        {
            "source": "### Retrieve the User's Profile Image", 
            "cell_type": "markdown", 
            "metadata": {}
        }, 
        {
            "execution_count": 35, 
            "cell_type": "code", 
            "metadata": {}, 
            "outputs": [
                {
                    "execution_count": 35, 
                    "metadata": {}, 
                    "data": {
                        "text/plain": "{'bio': 'https://www.tawil.team/nick-el-tawil/',\n 'canonicalUrl': 'https://foursquare.com/nickeltawil',\n 'checkins': {'count': 1, 'items': []},\n 'contact': {},\n 'firstName': 'Nick',\n 'friends': {'count': 0,\n  'groups': [{'count': 0,\n    'items': [],\n    'name': 'Other friends',\n    'type': 'others'}]},\n 'gender': 'male',\n 'homeCity': 'New York, NY',\n 'id': '484542633',\n 'lastName': 'El-Tawil',\n 'lenses': [],\n 'lists': {'count': 2,\n  'groups': [{'count': 0, 'items': [], 'type': 'created'},\n   {'count': 0, 'items': [], 'type': 'followed'},\n   {'count': 2,\n    'items': [{'canonicalUrl': 'https://foursquare.com/nickeltawil/list/todos',\n      'collaborative': False,\n      'description': '',\n      'editable': False,\n      'id': '484542633/todos',\n      'listItems': {'count': 0},\n      'name': \"Nick's Saved Places\",\n      'public': True,\n      'type': 'todos',\n      'url': '/nickeltawil/list/todos'},\n     {'canonicalUrl': 'https://foursquare.com/nickeltawil/list/venuelikes',\n      'collaborative': False,\n      'description': '',\n      'editable': False,\n      'id': '484542633/venuelikes',\n      'listItems': {'count': 0},\n      'name': 'Nick\u2019s Liked Places',\n      'public': True,\n      'type': 'likes',\n      'url': '/nickeltawil/list/venuelikes'}],\n    'type': 'yours'}]},\n 'mayorships': {'count': 0, 'items': []},\n 'photo': {'prefix': 'https://fastly.4sqi.net/img/user/',\n  'suffix': '/484542633_mK2Yum7T_7Tn9fWpndidJsmw2Hof_6T5vJBKCHPLMK5OL-U5ZiJGj51iwBstcpDLYa3Zvhvis.jpg'},\n 'photos': {'count': 0, 'items': []},\n 'tips': {'count': 242},\n 'type': 'user'}"
                    }, 
                    "output_type": "execute_result"
                }
            ], 
            "source": "user_data"
        }, 
        {
            "execution_count": 38, 
            "cell_type": "code", 
            "metadata": {}, 
            "outputs": [
                {
                    "execution_count": 38, 
                    "metadata": {}, 
                    "data": {
                        "text/html": "<img src=\"https://igx.4sqi.net/img/user/300x300/484542633_mK2Yum7T_7Tn9fWpndidJsmw2Hof_6T5vJBKCHPLMK5OL-U5ZiJGj51iwBstcpDLYa3Zvhvis.jpg\"/>", 
                        "text/plain": "<IPython.core.display.Image object>"
                    }, 
                    "output_type": "execute_result"
                }
            ], 
            "source": "# 1. grab prefix of photo\n# 2. grab suffix of photo\n# 3. concatenate them using the image size  \nImage(url='https://igx.4sqi.net/img/user/300x300/484542633_mK2Yum7T_7Tn9fWpndidJsmw2Hof_6T5vJBKCHPLMK5OL-U5ZiJGj51iwBstcpDLYa3Zvhvis.jpg')"
        }, 
        {
            "source": "## 4. Explore a location\n> `https://api.foursquare.com/v2/venues/`**explore**`?client_id=`**CLIENT_ID**`&client_secret=`**CLIENT_SECRET**`&ll=`**LATITUDE**`,`**LONGITUDE**`&v=`**VERSION**`&limit=`**LIMIT**", 
            "cell_type": "markdown", 
            "metadata": {}
        }, 
        {
            "source": "#### So, you just finished your gourmet dish at Ecco, and are just curious about the popular spots around the restaurant. In order to explore the area, let's start by getting the latitude and longitude values of Ecco Restaurant.", 
            "cell_type": "markdown", 
            "metadata": {}
        }, 
        {
            "execution_count": 39, 
            "cell_type": "code", 
            "metadata": {}, 
            "outputs": [], 
            "source": "latitude = 40.715337\nlongitude = -74.008848"
        }, 
        {
            "execution_count": 40, 
            "cell_type": "code", 
            "metadata": {}, 
            "outputs": [
                {
                    "execution_count": 40, 
                    "metadata": {}, 
                    "data": {
                        "text/plain": "'https://api.foursquare.com/v2/venues/explore?client_id=WA0EHL1G0GH0ODM2ODILFJ434IAUGF4VFKSMEDG1BZZU0HBR&client_secret=5HWMV0D503W5OK2MMV4SEOVS5YCIMYVMNKZNDTAXNWCGGRDI&ll=40.715337,-74.008848&v=20180604&radius=500&limit=30'"
                    }, 
                    "output_type": "execute_result"
                }
            ], 
            "source": "url = 'https://api.foursquare.com/v2/venues/explore?client_id={}&client_secret={}&ll={},{}&v={}&radius={}&limit={}'.format(CLIENT_ID, CLIENT_SECRET, latitude, longitude, VERSION, radius, LIMIT)\nurl"
        }, 
        {
            "source": "#### Send GET request and examine results", 
            "cell_type": "markdown", 
            "metadata": {}
        }, 
        {
            "execution_count": 41, 
            "cell_type": "code", 
            "metadata": {}, 
            "outputs": [
                {
                    "execution_count": 41, 
                    "metadata": {}, 
                    "data": {
                        "text/plain": "'There are 30 around Ecco restaurant.'"
                    }, 
                    "output_type": "execute_result"
                }
            ], 
            "source": "import requests\nresults = requests.get(url).json()\n'There are {} around Ecco restaurant.'.format(len(results['response']['groups'][0]['items']))"
        }, 
        {
            "source": "#### Get relevant part of JSON", 
            "cell_type": "markdown", 
            "metadata": {}
        }, 
        {
            "execution_count": 42, 
            "cell_type": "code", 
            "metadata": {}, 
            "outputs": [
                {
                    "execution_count": 42, 
                    "metadata": {}, 
                    "data": {
                        "text/plain": "{'reasons': {'count': 0,\n  'items': [{'reasonName': 'globalInteractionReason',\n    'summary': 'This spot is popular',\n    'type': 'general'}]},\n 'referralId': 'e-0-4af5d65ff964a52091fd21e3-0',\n 'venue': {'categories': [{'icon': {'prefix': 'https://ss3.4sqi.net/img/categories_v2/shops/furniture_',\n     'suffix': '.png'},\n    'id': '4bf58dd8d48988d1f8941735',\n    'name': 'Furniture / Home Store',\n    'pluralName': 'Furniture / Home Stores',\n    'primary': True,\n    'shortName': 'Furniture / Home'}],\n  'id': '4af5d65ff964a52091fd21e3',\n  'location': {'address': '57 Warren St',\n   'cc': 'US',\n   'city': 'New York',\n   'country': 'United States',\n   'crossStreet': 'Church St',\n   'distance': 73,\n   'formattedAddress': ['57 Warren St (Church St)',\n    'New York, NY 10007',\n    'United States'],\n   'labeledLatLngs': [{'label': 'display',\n     'lat': 40.71482437714839,\n     'lng': -74.00940425461492}],\n   'lat': 40.71482437714839,\n   'lng': -74.00940425461492,\n   'neighborhood': 'Tribeca',\n   'postalCode': '10007',\n   'state': 'NY'},\n  'name': 'Korin',\n  'photos': {'count': 0, 'groups': []},\n  'venuePage': {'id': '33104775'}}}"
                    }, 
                    "output_type": "execute_result"
                }
            ], 
            "source": "items = results['response']['groups'][0]['items']\nitems[0]"
        }, 
        {
            "source": "#### Process JSON and convert it to a clean dataframe", 
            "cell_type": "markdown", 
            "metadata": {}
        }, 
        {
            "execution_count": 43, 
            "cell_type": "code", 
            "metadata": {}, 
            "outputs": [
                {
                    "execution_count": 43, 
                    "metadata": {}, 
                    "data": {
                        "text/html": "<div>\n<style scoped>\n    .dataframe tbody tr th:only-of-type {\n        vertical-align: middle;\n    }\n\n    .dataframe tbody tr th {\n        vertical-align: top;\n    }\n\n    .dataframe thead th {\n        text-align: right;\n    }\n</style>\n<table border=\"1\" class=\"dataframe\">\n  <thead>\n    <tr style=\"text-align: right;\">\n      <th></th>\n      <th>name</th>\n      <th>categories</th>\n      <th>address</th>\n      <th>cc</th>\n      <th>city</th>\n      <th>country</th>\n      <th>crossStreet</th>\n      <th>distance</th>\n      <th>formattedAddress</th>\n      <th>labeledLatLngs</th>\n      <th>lat</th>\n      <th>lng</th>\n      <th>neighborhood</th>\n      <th>postalCode</th>\n      <th>state</th>\n      <th>id</th>\n    </tr>\n  </thead>\n  <tbody>\n    <tr>\n      <th>0</th>\n      <td>Korin</td>\n      <td>Furniture / Home Store</td>\n      <td>57 Warren St</td>\n      <td>US</td>\n      <td>New York</td>\n      <td>United States</td>\n      <td>Church St</td>\n      <td>73</td>\n      <td>[57 Warren St (Church St), New York, NY 10007, United States]</td>\n      <td>[{'lat': 40.71482437714839, 'lng': -74.00940425461492, 'label': 'display'}]</td>\n      <td>40.714824</td>\n      <td>-74.009404</td>\n      <td>Tribeca</td>\n      <td>10007</td>\n      <td>NY</td>\n      <td>4af5d65ff964a52091fd21e3</td>\n    </tr>\n    <tr>\n      <th>1</th>\n      <td>Chambers Street Wines</td>\n      <td>Wine Shop</td>\n      <td>148 Chambers St</td>\n      <td>US</td>\n      <td>New York</td>\n      <td>United States</td>\n      <td>btwn West Broadway &amp; Hudson St</td>\n      <td>88</td>\n      <td>[148 Chambers St (btwn West Broadway &amp; Hudson St), New York, NY 10007, United States]</td>\n      <td>[{'lat': 40.715773063928374, 'lng': -74.00971823312332, 'label': 'display'}]</td>\n      <td>40.715773</td>\n      <td>-74.009718</td>\n      <td>NaN</td>\n      <td>10007</td>\n      <td>NY</td>\n      <td>4adcf23cf964a520cc6221e3</td>\n    </tr>\n    <tr>\n      <th>2</th>\n      <td>Takahachi Bakery</td>\n      <td>Bakery</td>\n      <td>25 Murray St</td>\n      <td>US</td>\n      <td>New York</td>\n      <td>United States</td>\n      <td>at Church St</td>\n      <td>187</td>\n      <td>[25 Murray St (at Church St), New York, NY 10007, United States]</td>\n      <td>[{'lat': 40.713652845301894, 'lng': -74.0088038953017, 'label': 'display'}]</td>\n      <td>40.713653</td>\n      <td>-74.008804</td>\n      <td>NaN</td>\n      <td>10007</td>\n      <td>NY</td>\n      <td>4c154c9a77cea593c401d260</td>\n    </tr>\n    <tr>\n      <th>3</th>\n      <td>Takahachi</td>\n      <td>Sushi Restaurant</td>\n      <td>145 Duane St</td>\n      <td>US</td>\n      <td>New York</td>\n      <td>United States</td>\n      <td>btwn W Broadway &amp; Church St</td>\n      <td>146</td>\n      <td>[145 Duane St (btwn W Broadway &amp; Church St), New York, NY 10013, United States]</td>\n      <td>[{'lat': 40.71652647412374, 'lng': -74.00810108466207, 'label': 'display'}]</td>\n      <td>40.716526</td>\n      <td>-74.008101</td>\n      <td>NaN</td>\n      <td>10013</td>\n      <td>NY</td>\n      <td>4a8f2f39f964a520471420e3</td>\n    </tr>\n    <tr>\n      <th>4</th>\n      <td>Juice Press</td>\n      <td>Vegetarian / Vegan Restaurant</td>\n      <td>83 Murray St</td>\n      <td>US</td>\n      <td>New York</td>\n      <td>United States</td>\n      <td>btwn Greenwich St &amp; W Broadway</td>\n      <td>202</td>\n      <td>[83 Murray St (btwn Greenwich St &amp; W Broadway), New York, NY 10007, United States]</td>\n      <td>[{'lat': 40.71478769908051, 'lng': -74.0111317502157, 'label': 'display'}]</td>\n      <td>40.714788</td>\n      <td>-74.011132</td>\n      <td>NaN</td>\n      <td>10007</td>\n      <td>NY</td>\n      <td>54148bc6498ea7bb8c05b70a</td>\n    </tr>\n    <tr>\n      <th>5</th>\n      <td>Mulberry &amp; Vine</td>\n      <td>Caf\u00e9</td>\n      <td>73 Warren St</td>\n      <td>US</td>\n      <td>New York</td>\n      <td>United States</td>\n      <td>btwn W Broadway &amp; Greenwich St</td>\n      <td>117</td>\n      <td>[73 Warren St (btwn W Broadway &amp; Greenwich St), New York, NY 10007, United States]</td>\n      <td>[{'lat': 40.71517693966315, 'lng': -74.01022747778285, 'label': 'display'}]</td>\n      <td>40.715177</td>\n      <td>-74.010227</td>\n      <td>NaN</td>\n      <td>10007</td>\n      <td>NY</td>\n      <td>5171b5cc011cef9833bbb787</td>\n    </tr>\n    <tr>\n      <th>6</th>\n      <td>Nish N\u016bsh</td>\n      <td>Falafel Restaurant</td>\n      <td>88 Reade St</td>\n      <td>US</td>\n      <td>New York</td>\n      <td>United States</td>\n      <td>at Church St</td>\n      <td>97</td>\n      <td>[88 Reade St (at Church St), New York, NY 10013, United States]</td>\n      <td>[{'lat': 40.71553710116416, 'lng': -74.00772452925565, 'label': 'display'}]</td>\n      <td>40.715537</td>\n      <td>-74.007725</td>\n      <td>NaN</td>\n      <td>10013</td>\n      <td>NY</td>\n      <td>50ba9119e4b071a4bae6dc10</td>\n    </tr>\n    <tr>\n      <th>7</th>\n      <td>Equinox Tribeca</td>\n      <td>Gym</td>\n      <td>54 Murray Street</td>\n      <td>US</td>\n      <td>New York</td>\n      <td>United States</td>\n      <td>at W Broadway</td>\n      <td>154</td>\n      <td>[54 Murray Street (at W Broadway), New York, NY 10007, United States]</td>\n      <td>[{'lat': 40.71409860726041, 'lng': -74.0096857179283, 'label': 'display'}]</td>\n      <td>40.714099</td>\n      <td>-74.009686</td>\n      <td>NaN</td>\n      <td>10007</td>\n      <td>NY</td>\n      <td>4a6e331af964a52031d41fe3</td>\n    </tr>\n    <tr>\n      <th>8</th>\n      <td>Ten Over Ten</td>\n      <td>Nail Salon</td>\n      <td>112 Reade St</td>\n      <td>US</td>\n      <td>New York</td>\n      <td>United States</td>\n      <td>NaN</td>\n      <td>68</td>\n      <td>[112 Reade St, New York, NY 10013, United States]</td>\n      <td>[{'lat': 40.71594125566931, 'lng': -74.00872053564494, 'label': 'display'}]</td>\n      <td>40.715941</td>\n      <td>-74.008721</td>\n      <td>NaN</td>\n      <td>10013</td>\n      <td>NY</td>\n      <td>4ce2a27cd58c60fc0fa1a76f</td>\n    </tr>\n    <tr>\n      <th>9</th>\n      <td>Khe-Yo</td>\n      <td>Asian Restaurant</td>\n      <td>157 Duane Street</td>\n      <td>US</td>\n      <td>New York</td>\n      <td>United States</td>\n      <td>btwn Hudson St &amp; W Broadway</td>\n      <td>159</td>\n      <td>[157 Duane Street (btwn Hudson St &amp; W Broadway), New York, NY 10013, United States]</td>\n      <td>[{'lat': 40.716752816876635, 'lng': -74.00858376295221, 'label': 'display'}]</td>\n      <td>40.716753</td>\n      <td>-74.008584</td>\n      <td>NaN</td>\n      <td>10013</td>\n      <td>NY</td>\n      <td>51df85c9498edb5ea3ad2e2a</td>\n    </tr>\n  </tbody>\n</table>\n</div>", 
                        "text/plain": "                    name                     categories           address  cc  \\\n0  Korin                  Furniture / Home Store         57 Warren St      US   \n1  Chambers Street Wines  Wine Shop                      148 Chambers St   US   \n2  Takahachi Bakery       Bakery                         25 Murray St      US   \n3  Takahachi              Sushi Restaurant               145 Duane St      US   \n4  Juice Press            Vegetarian / Vegan Restaurant  83 Murray St      US   \n5  Mulberry & Vine        Caf\u00e9                           73 Warren St      US   \n6  Nish N\u016bsh              Falafel Restaurant             88 Reade St       US   \n7  Equinox Tribeca        Gym                            54 Murray Street  US   \n8  Ten Over Ten           Nail Salon                     112 Reade St      US   \n9  Khe-Yo                 Asian Restaurant               157 Duane Street  US   \n\n       city        country                     crossStreet  distance  \\\n0  New York  United States  Church St                       73         \n1  New York  United States  btwn West Broadway & Hudson St  88         \n2  New York  United States  at Church St                    187        \n3  New York  United States  btwn W Broadway & Church St     146        \n4  New York  United States  btwn Greenwich St & W Broadway  202        \n5  New York  United States  btwn W Broadway & Greenwich St  117        \n6  New York  United States  at Church St                    97         \n7  New York  United States  at W Broadway                   154        \n8  New York  United States  NaN                             68         \n9  New York  United States  btwn Hudson St & W Broadway     159        \n\n                                                                        formattedAddress  \\\n0  [57 Warren St (Church St), New York, NY 10007, United States]                           \n1  [148 Chambers St (btwn West Broadway & Hudson St), New York, NY 10007, United States]   \n2  [25 Murray St (at Church St), New York, NY 10007, United States]                        \n3  [145 Duane St (btwn W Broadway & Church St), New York, NY 10013, United States]         \n4  [83 Murray St (btwn Greenwich St & W Broadway), New York, NY 10007, United States]      \n5  [73 Warren St (btwn W Broadway & Greenwich St), New York, NY 10007, United States]      \n6  [88 Reade St (at Church St), New York, NY 10013, United States]                         \n7  [54 Murray Street (at W Broadway), New York, NY 10007, United States]                   \n8  [112 Reade St, New York, NY 10013, United States]                                       \n9  [157 Duane Street (btwn Hudson St & W Broadway), New York, NY 10013, United States]     \n\n                                                                 labeledLatLngs  \\\n0  [{'lat': 40.71482437714839, 'lng': -74.00940425461492, 'label': 'display'}]    \n1  [{'lat': 40.715773063928374, 'lng': -74.00971823312332, 'label': 'display'}]   \n2  [{'lat': 40.713652845301894, 'lng': -74.0088038953017, 'label': 'display'}]    \n3  [{'lat': 40.71652647412374, 'lng': -74.00810108466207, 'label': 'display'}]    \n4  [{'lat': 40.71478769908051, 'lng': -74.0111317502157, 'label': 'display'}]     \n5  [{'lat': 40.71517693966315, 'lng': -74.01022747778285, 'label': 'display'}]    \n6  [{'lat': 40.71553710116416, 'lng': -74.00772452925565, 'label': 'display'}]    \n7  [{'lat': 40.71409860726041, 'lng': -74.0096857179283, 'label': 'display'}]     \n8  [{'lat': 40.71594125566931, 'lng': -74.00872053564494, 'label': 'display'}]    \n9  [{'lat': 40.716752816876635, 'lng': -74.00858376295221, 'label': 'display'}]   \n\n         lat        lng neighborhood postalCode state  \\\n0  40.714824 -74.009404  Tribeca      10007      NY     \n1  40.715773 -74.009718  NaN          10007      NY     \n2  40.713653 -74.008804  NaN          10007      NY     \n3  40.716526 -74.008101  NaN          10013      NY     \n4  40.714788 -74.011132  NaN          10007      NY     \n5  40.715177 -74.010227  NaN          10007      NY     \n6  40.715537 -74.007725  NaN          10013      NY     \n7  40.714099 -74.009686  NaN          10007      NY     \n8  40.715941 -74.008721  NaN          10013      NY     \n9  40.716753 -74.008584  NaN          10013      NY     \n\n                         id  \n0  4af5d65ff964a52091fd21e3  \n1  4adcf23cf964a520cc6221e3  \n2  4c154c9a77cea593c401d260  \n3  4a8f2f39f964a520471420e3  \n4  54148bc6498ea7bb8c05b70a  \n5  5171b5cc011cef9833bbb787  \n6  50ba9119e4b071a4bae6dc10  \n7  4a6e331af964a52031d41fe3  \n8  4ce2a27cd58c60fc0fa1a76f  \n9  51df85c9498edb5ea3ad2e2a  "
                    }, 
                    "output_type": "execute_result"
                }
            ], 
            "source": "dataframe = json_normalize(items) # flatten JSON\n\n# filter columns\nfiltered_columns = ['venue.name', 'venue.categories'] + [col for col in dataframe.columns if col.startswith('venue.location.')] + ['venue.id']\ndataframe_filtered = dataframe.loc[:, filtered_columns]\n\n# filter the category for each row\ndataframe_filtered['venue.categories'] = dataframe_filtered.apply(get_category_type, axis=1)\n\n# clean columns\ndataframe_filtered.columns = [col.split('.')[-1] for col in dataframe_filtered.columns]\n\ndataframe_filtered.head(10)"
        }, 
        {
            "source": "#### Let's visualize these items on the map around our location", 
            "cell_type": "markdown", 
            "metadata": {}
        }, 
        {
            "execution_count": 44, 
            "cell_type": "code", 
            "metadata": {}, 
            "outputs": [
                {
                    "execution_count": 44, 
                    "metadata": {}, 
                    "data": {
                        "text/html": "<div style=\"width:100%;\"><div style=\"position:relative;width:100%;height:0;padding-bottom:60%;\"><iframe src=\"data:text/html;charset=utf-8;base64,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\" style=\"position:absolute;width:100%;height:100%;left:0;top:0;border:none !important;\" allowfullscreen webkitallowfullscreen mozallowfullscreen></iframe></div></div>", 
                        "text/plain": "<folium.folium.Map at 0x7f4638787d30>"
                    }, 
                    "output_type": "execute_result"
                }
            ], 
            "source": "venues_map = folium.Map(location=[latitude, longitude], zoom_start=15) # generate map centred around Ecco\n\n\n# add Ecco as a red circle mark\nfolium.features.CircleMarker(\n    [latitude, longitude],\n    radius=10,\n    popup='Ecco',\n    fill=True,\n    color='red',\n    fill_color='red',\n    fill_opacity=0.6\n    ).add_to(venues_map)\n\n\n# add popular spots to the map as blue circle markers\nfor lat, lng, label in zip(dataframe_filtered.lat, dataframe_filtered.lng, dataframe_filtered.categories):\n    folium.features.CircleMarker(\n        [lat, lng],\n        radius=5,\n        popup=label,\n        fill=True,\n        color='blue',\n        fill_color='blue',\n        fill_opacity=0.6\n        ).add_to(venues_map)\n\n# display map\nvenues_map"
        }, 
        {
            "source": "## 5. Explore Trending Venues\n> `https://api.foursquare.com/v2/venues/`**trending**`?client_id=`**CLIENT_ID**`&client_secret=`**CLIENT_SECRET**`&ll=`**LATITUDE**`,`**LONGITUDE**`&v=`**VERSION**", 
            "cell_type": "markdown", 
            "metadata": {}
        }, 
        {
            "source": "#### Now, instead of simply exploring the area around Ecco, you are interested in knowing the venues that are trending at the time you are done with your lunch, meaning the places with the highest foot traffic. So let's do that and get the trending venues around Ecco.", 
            "cell_type": "markdown", 
            "metadata": {}
        }, 
        {
            "execution_count": 45, 
            "cell_type": "code", 
            "metadata": {}, 
            "outputs": [
                {
                    "execution_count": 45, 
                    "metadata": {}, 
                    "data": {
                        "text/plain": "{'meta': {'code': 200, 'requestId': '5c5988c99fb6b767979e7027'},\n 'response': {'venues': []}}"
                    }, 
                    "output_type": "execute_result"
                }
            ], 
            "source": "# define URL\nurl = 'https://api.foursquare.com/v2/venues/trending?client_id={}&client_secret={}&ll={},{}&v={}'.format(CLIENT_ID, CLIENT_SECRET, latitude, longitude, VERSION)\n\n# send GET request and get trending venues\nresults = requests.get(url).json()\nresults"
        }, 
        {
            "source": "### Check if any venues are trending at this time", 
            "cell_type": "markdown", 
            "metadata": {}
        }, 
        {
            "execution_count": 46, 
            "cell_type": "code", 
            "metadata": {}, 
            "outputs": [
                {
                    "execution_count": 46, 
                    "metadata": {}, 
                    "data": {
                        "text/plain": "'No trending venues are available at the moment!'"
                    }, 
                    "output_type": "execute_result"
                }
            ], 
            "source": "if len(results['response']['venues']) == 0:\n    trending_venues_df = 'No trending venues are available at the moment!'\n    \nelse:\n    trending_venues = results['response']['venues']\n    trending_venues_df = json_normalize(trending_venues)\n\n    # filter columns\n    columns_filtered = ['name', 'categories'] + ['location.distance', 'location.city', 'location.postalCode', 'location.state', 'location.country', 'location.lat', 'location.lng']\n    trending_venues_df = trending_venues_df.loc[:, columns_filtered]\n\n    # filter the category for each row\n    trending_venues_df['categories'] = trending_venues_df.apply(get_category_type, axis=1)\n# display trending venues\ntrending_venues_df"
        }, 
        {
            "source": "Now, depending on when you run the above code, you might get different venues since the venues with the highest foot traffic are fetched live. ", 
            "cell_type": "markdown", 
            "metadata": {}
        }, 
        {
            "source": "### Visualize trending venues", 
            "cell_type": "markdown", 
            "metadata": {}
        }, 
        {
            "execution_count": 47, 
            "cell_type": "code", 
            "metadata": {}, 
            "outputs": [
                {
                    "execution_count": 47, 
                    "metadata": {}, 
                    "data": {
                        "text/plain": "'Cannot generate visual as no trending venues are available at the moment!'"
                    }, 
                    "output_type": "execute_result"
                }
            ], 
            "source": "if len(results['response']['venues']) == 0:\n    venues_map = 'Cannot generate visual as no trending venues are available at the moment!'\n\nelse:\n    venues_map = folium.Map(location=[latitude, longitude], zoom_start=15) # generate map centred around Ecco\n\n\n    # add Ecco as a red circle mark\n    folium.features.CircleMarker(\n        [latitude, longitude],\n        radius=10,\n        popup='Ecco',\n        fill=True,\n        color='red',\n        fill_color='red',\n        fill_opacity=0.6\n    ).add_to(venues_map)\n\n\n    # add the trending venues as blue circle markers\n    for lat, lng, label in zip(trending_venues_df['location.lat'], trending_venues_df['location.lng'], trending_venues_df['name']):\n        folium.features.CircleMarker(\n            [lat, lng],\n            radius=5,\n            poup=label,\n            fill=True,\n            color='blue',\n            fill_color='blue',\n            fill_opacity=0.6\n        ).add_to(venues_map)\n        \n# display map\nvenues_map        "
        }, 
        {
            "execution_count": null, 
            "cell_type": "code", 
            "metadata": {}, 
            "outputs": [], 
            "source": ""
        }
    ], 
    "metadata": {
        "kernelspec": {
            "display_name": "Python 3.5", 
            "name": "python3", 
            "language": "python"
        }, 
        "language_info": {
            "mimetype": "text/x-python", 
            "nbconvert_exporter": "python", 
            "version": "3.5.5", 
            "name": "python", 
            "file_extension": ".py", 
            "pygments_lexer": "ipython3", 
            "codemirror_mode": {
                "version": 3, 
                "name": "ipython"
            }
        }
    }, 
    "nbformat": 4
}